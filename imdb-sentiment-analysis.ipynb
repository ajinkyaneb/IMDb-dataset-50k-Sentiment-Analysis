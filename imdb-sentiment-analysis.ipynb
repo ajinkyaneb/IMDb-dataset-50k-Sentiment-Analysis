{
 "cells": [
  {
   "cell_type": "code",
   "execution_count": 1,
   "id": "13d3c2b7",
   "metadata": {
    "_cell_guid": "b1076dfc-b9ad-4769-8c92-a6c4dae69d19",
    "_uuid": "8f2839f25d086af736a60e9eeb907d3b93b6e0e5",
    "execution": {
     "iopub.execute_input": "2023-11-24T00:37:19.471955Z",
     "iopub.status.busy": "2023-11-24T00:37:19.471173Z",
     "iopub.status.idle": "2023-11-24T00:37:20.237121Z",
     "shell.execute_reply": "2023-11-24T00:37:20.236032Z"
    },
    "papermill": {
     "duration": 0.777318,
     "end_time": "2023-11-24T00:37:20.239432",
     "exception": false,
     "start_time": "2023-11-24T00:37:19.462114",
     "status": "completed"
    },
    "tags": []
   },
   "outputs": [
    {
     "name": "stdout",
     "output_type": "stream",
     "text": [
      "/kaggle/input/imdb-dataset-50k-sentiment-analysis/IMDb_50.000.csv\n"
     ]
    }
   ],
   "source": [
    "# This Python 3 environment comes with many helpful analytics libraries installed\n",
    "# It is defined by the kaggle/python Docker image: https://github.com/kaggle/docker-python\n",
    "# For example, here's several helpful packages to load\n",
    "\n",
    "import numpy as np # linear algebra\n",
    "import pandas as pd # data processing, CSV file I/O (e.g. pd.read_csv)\n",
    "\n",
    "# Input data files are available in the read-only \"../input/\" directory\n",
    "# For example, running this (by clicking run or pressing Shift+Enter) will list all files under the input directory\n",
    "\n",
    "import os\n",
    "for dirname, _, filenames in os.walk('/kaggle/input'):\n",
    "    for filename in filenames:\n",
    "        print(os.path.join(dirname, filename))\n",
    "\n",
    "# You can write up to 20GB to the current directory (/kaggle/working/) that gets preserved as output when you create a version using \"Save & Run All\" \n",
    "# You can also write temporary files to /kaggle/temp/, but they won't be saved outside of the current session"
   ]
  },
  {
   "cell_type": "code",
   "execution_count": 2,
   "id": "2c4906a4",
   "metadata": {
    "execution": {
     "iopub.execute_input": "2023-11-24T00:37:20.255198Z",
     "iopub.status.busy": "2023-11-24T00:37:20.254679Z",
     "iopub.status.idle": "2023-11-24T00:37:21.762771Z",
     "shell.execute_reply": "2023-11-24T00:37:21.761619Z"
    },
    "papermill": {
     "duration": 1.518794,
     "end_time": "2023-11-24T00:37:21.765335",
     "exception": false,
     "start_time": "2023-11-24T00:37:20.246541",
     "status": "completed"
    },
    "tags": []
   },
   "outputs": [],
   "source": [
    "dff = pd.read_csv('/kaggle/input/imdb-dataset-50k-sentiment-analysis/IMDb_50.000.csv')"
   ]
  },
  {
   "cell_type": "code",
   "execution_count": 3,
   "id": "637b8707",
   "metadata": {
    "execution": {
     "iopub.execute_input": "2023-11-24T00:37:21.780765Z",
     "iopub.status.busy": "2023-11-24T00:37:21.780388Z",
     "iopub.status.idle": "2023-11-24T00:37:21.785334Z",
     "shell.execute_reply": "2023-11-24T00:37:21.784255Z"
    },
    "papermill": {
     "duration": 0.015116,
     "end_time": "2023-11-24T00:37:21.787473",
     "exception": false,
     "start_time": "2023-11-24T00:37:21.772357",
     "status": "completed"
    },
    "tags": []
   },
   "outputs": [],
   "source": [
    "df = dff.iloc[:10000]"
   ]
  },
  {
   "cell_type": "code",
   "execution_count": 4,
   "id": "6d564068",
   "metadata": {
    "execution": {
     "iopub.execute_input": "2023-11-24T00:37:21.803638Z",
     "iopub.status.busy": "2023-11-24T00:37:21.802619Z",
     "iopub.status.idle": "2023-11-24T00:37:21.830212Z",
     "shell.execute_reply": "2023-11-24T00:37:21.829298Z"
    },
    "papermill": {
     "duration": 0.037897,
     "end_time": "2023-11-24T00:37:21.832482",
     "exception": false,
     "start_time": "2023-11-24T00:37:21.794585",
     "status": "completed"
    },
    "tags": []
   },
   "outputs": [
    {
     "data": {
      "text/html": [
       "<div>\n",
       "<style scoped>\n",
       "    .dataframe tbody tr th:only-of-type {\n",
       "        vertical-align: middle;\n",
       "    }\n",
       "\n",
       "    .dataframe tbody tr th {\n",
       "        vertical-align: top;\n",
       "    }\n",
       "\n",
       "    .dataframe thead th {\n",
       "        text-align: right;\n",
       "    }\n",
       "</style>\n",
       "<table border=\"1\" class=\"dataframe\">\n",
       "  <thead>\n",
       "    <tr style=\"text-align: right;\">\n",
       "      <th></th>\n",
       "      <th>review</th>\n",
       "      <th>label</th>\n",
       "    </tr>\n",
       "  </thead>\n",
       "  <tbody>\n",
       "    <tr>\n",
       "      <th>2031</th>\n",
       "      <td>\"True\" story of a late monster that appears wh...</td>\n",
       "      <td>negative</td>\n",
       "    </tr>\n",
       "    <tr>\n",
       "      <th>7553</th>\n",
       "      <td>This movie was terrible! My friend and I were ...</td>\n",
       "      <td>negative</td>\n",
       "    </tr>\n",
       "    <tr>\n",
       "      <th>5421</th>\n",
       "      <td>A good example of the differences between Amer...</td>\n",
       "      <td>negative</td>\n",
       "    </tr>\n",
       "    <tr>\n",
       "      <th>1307</th>\n",
       "      <td>This entire movie is worth watching just for t...</td>\n",
       "      <td>positive</td>\n",
       "    </tr>\n",
       "    <tr>\n",
       "      <th>3519</th>\n",
       "      <td>MISSISSIPPI MERMAID is a disturbing and unsett...</td>\n",
       "      <td>positive</td>\n",
       "    </tr>\n",
       "    <tr>\n",
       "      <th>4012</th>\n",
       "      <td>Saw this film on DVD yesterday and was gob-sma...</td>\n",
       "      <td>positive</td>\n",
       "    </tr>\n",
       "    <tr>\n",
       "      <th>781</th>\n",
       "      <td>I thought that this movie was incredible. I ab...</td>\n",
       "      <td>positive</td>\n",
       "    </tr>\n",
       "    <tr>\n",
       "      <th>9339</th>\n",
       "      <td>Stargate is the best show ever. All the actors...</td>\n",
       "      <td>positive</td>\n",
       "    </tr>\n",
       "    <tr>\n",
       "      <th>2023</th>\n",
       "      <td>A teen-aged girl gets the horse of her dreams ...</td>\n",
       "      <td>positive</td>\n",
       "    </tr>\n",
       "    <tr>\n",
       "      <th>2360</th>\n",
       "      <td>I was fortunate to see a screening of this rem...</td>\n",
       "      <td>positive</td>\n",
       "    </tr>\n",
       "  </tbody>\n",
       "</table>\n",
       "</div>"
      ],
      "text/plain": [
       "                                                 review     label\n",
       "2031  \"True\" story of a late monster that appears wh...  negative\n",
       "7553  This movie was terrible! My friend and I were ...  negative\n",
       "5421  A good example of the differences between Amer...  negative\n",
       "1307  This entire movie is worth watching just for t...  positive\n",
       "3519  MISSISSIPPI MERMAID is a disturbing and unsett...  positive\n",
       "4012  Saw this film on DVD yesterday and was gob-sma...  positive\n",
       "781   I thought that this movie was incredible. I ab...  positive\n",
       "9339  Stargate is the best show ever. All the actors...  positive\n",
       "2023  A teen-aged girl gets the horse of her dreams ...  positive\n",
       "2360  I was fortunate to see a screening of this rem...  positive"
      ]
     },
     "execution_count": 4,
     "metadata": {},
     "output_type": "execute_result"
    }
   ],
   "source": [
    "df.sample(10)"
   ]
  },
  {
   "cell_type": "code",
   "execution_count": 5,
   "id": "8d764c6a",
   "metadata": {
    "execution": {
     "iopub.execute_input": "2023-11-24T00:37:21.848720Z",
     "iopub.status.busy": "2023-11-24T00:37:21.847803Z",
     "iopub.status.idle": "2023-11-24T00:37:21.856922Z",
     "shell.execute_reply": "2023-11-24T00:37:21.855918Z"
    },
    "papermill": {
     "duration": 0.019383,
     "end_time": "2023-11-24T00:37:21.858979",
     "exception": false,
     "start_time": "2023-11-24T00:37:21.839596",
     "status": "completed"
    },
    "tags": []
   },
   "outputs": [
    {
     "data": {
      "text/plain": [
       "review    0\n",
       "label     0\n",
       "dtype: int64"
      ]
     },
     "execution_count": 5,
     "metadata": {},
     "output_type": "execute_result"
    }
   ],
   "source": [
    "df.isnull().sum()"
   ]
  },
  {
   "cell_type": "code",
   "execution_count": 6,
   "id": "65ec805f",
   "metadata": {
    "execution": {
     "iopub.execute_input": "2023-11-24T00:37:21.875451Z",
     "iopub.status.busy": "2023-11-24T00:37:21.874517Z",
     "iopub.status.idle": "2023-11-24T00:37:21.924581Z",
     "shell.execute_reply": "2023-11-24T00:37:21.923474Z"
    },
    "papermill": {
     "duration": 0.060622,
     "end_time": "2023-11-24T00:37:21.926859",
     "exception": false,
     "start_time": "2023-11-24T00:37:21.866237",
     "status": "completed"
    },
    "tags": []
   },
   "outputs": [
    {
     "data": {
      "text/plain": [
       "17"
      ]
     },
     "execution_count": 6,
     "metadata": {},
     "output_type": "execute_result"
    }
   ],
   "source": [
    "df.duplicated().sum()"
   ]
  },
  {
   "cell_type": "code",
   "execution_count": 7,
   "id": "0763977f",
   "metadata": {
    "execution": {
     "iopub.execute_input": "2023-11-24T00:37:21.943282Z",
     "iopub.status.busy": "2023-11-24T00:37:21.942916Z",
     "iopub.status.idle": "2023-11-24T00:37:21.982720Z",
     "shell.execute_reply": "2023-11-24T00:37:21.981590Z"
    },
    "papermill": {
     "duration": 0.050976,
     "end_time": "2023-11-24T00:37:21.985359",
     "exception": false,
     "start_time": "2023-11-24T00:37:21.934383",
     "status": "completed"
    },
    "tags": []
   },
   "outputs": [
    {
     "name": "stderr",
     "output_type": "stream",
     "text": [
      "/tmp/ipykernel_20/3006716147.py:1: SettingWithCopyWarning: \n",
      "A value is trying to be set on a copy of a slice from a DataFrame\n",
      "\n",
      "See the caveats in the documentation: https://pandas.pydata.org/pandas-docs/stable/user_guide/indexing.html#returning-a-view-versus-a-copy\n",
      "  df.drop_duplicates(inplace=True)\n"
     ]
    }
   ],
   "source": [
    "df.drop_duplicates(inplace=True)"
   ]
  },
  {
   "cell_type": "code",
   "execution_count": 8,
   "id": "3d3fb902",
   "metadata": {
    "execution": {
     "iopub.execute_input": "2023-11-24T00:37:22.001818Z",
     "iopub.status.busy": "2023-11-24T00:37:22.001438Z",
     "iopub.status.idle": "2023-11-24T00:37:22.043855Z",
     "shell.execute_reply": "2023-11-24T00:37:22.042754Z"
    },
    "papermill": {
     "duration": 0.053484,
     "end_time": "2023-11-24T00:37:22.046314",
     "exception": false,
     "start_time": "2023-11-24T00:37:21.992830",
     "status": "completed"
    },
    "tags": []
   },
   "outputs": [
    {
     "data": {
      "text/plain": [
       "0"
      ]
     },
     "execution_count": 8,
     "metadata": {},
     "output_type": "execute_result"
    }
   ],
   "source": [
    "df.duplicated().sum()"
   ]
  },
  {
   "cell_type": "code",
   "execution_count": 9,
   "id": "0afe0686",
   "metadata": {
    "execution": {
     "iopub.execute_input": "2023-11-24T00:37:22.064030Z",
     "iopub.status.busy": "2023-11-24T00:37:22.063440Z",
     "iopub.status.idle": "2023-11-24T00:37:22.069392Z",
     "shell.execute_reply": "2023-11-24T00:37:22.068701Z"
    },
    "papermill": {
     "duration": 0.017347,
     "end_time": "2023-11-24T00:37:22.071580",
     "exception": false,
     "start_time": "2023-11-24T00:37:22.054233",
     "status": "completed"
    },
    "tags": []
   },
   "outputs": [
    {
     "data": {
      "text/plain": [
       "'A wonderful little production. The filming technique is very unassuming- very old-time-BBC fashion and gives a comforting, and sometimes discomforting, sense of realism to the entire piece. The actors are extremely well chosen- Michael Sheen not only \"has got all the polari\" but he has all the voices down pat too! You can truly see the seamless editing guided by the references to Williams\\' diary entries, not only is it well worth the watching but it is a terrificly written and performed piece. A masterful production about one of the great master\\'s of comedy and his life. The realism really comes home with the little things: the fantasy of the guard which, rather than use the traditional \\'dream\\' techniques remains solid then disappears. It plays on our knowledge and our senses, particularly with the scenes concerning Orton and Halliwell and the sets (particularly of their flat with Halliwell\\'s murals decorating every surface) are terribly well done.'"
      ]
     },
     "execution_count": 9,
     "metadata": {},
     "output_type": "execute_result"
    }
   ],
   "source": [
    "df['review'][1]"
   ]
  },
  {
   "cell_type": "code",
   "execution_count": 10,
   "id": "3f66a902",
   "metadata": {
    "execution": {
     "iopub.execute_input": "2023-11-24T00:37:22.088946Z",
     "iopub.status.busy": "2023-11-24T00:37:22.088224Z",
     "iopub.status.idle": "2023-11-24T00:37:22.092945Z",
     "shell.execute_reply": "2023-11-24T00:37:22.092146Z"
    },
    "papermill": {
     "duration": 0.015734,
     "end_time": "2023-11-24T00:37:22.094906",
     "exception": false,
     "start_time": "2023-11-24T00:37:22.079172",
     "status": "completed"
    },
    "tags": []
   },
   "outputs": [],
   "source": [
    "import re\n",
    "def remove_tag(text):\n",
    "    pattern = re.sub(re.compile('<.*?>'),'',text)\n",
    "    return pattern"
   ]
  },
  {
   "cell_type": "code",
   "execution_count": 11,
   "id": "68195f49",
   "metadata": {
    "execution": {
     "iopub.execute_input": "2023-11-24T00:37:22.112149Z",
     "iopub.status.busy": "2023-11-24T00:37:22.111466Z",
     "iopub.status.idle": "2023-11-24T00:37:22.150249Z",
     "shell.execute_reply": "2023-11-24T00:37:22.149060Z"
    },
    "papermill": {
     "duration": 0.049692,
     "end_time": "2023-11-24T00:37:22.152263",
     "exception": false,
     "start_time": "2023-11-24T00:37:22.102571",
     "status": "completed"
    },
    "tags": []
   },
   "outputs": [
    {
     "name": "stderr",
     "output_type": "stream",
     "text": [
      "/tmp/ipykernel_20/789490676.py:1: SettingWithCopyWarning: \n",
      "A value is trying to be set on a copy of a slice from a DataFrame.\n",
      "Try using .loc[row_indexer,col_indexer] = value instead\n",
      "\n",
      "See the caveats in the documentation: https://pandas.pydata.org/pandas-docs/stable/user_guide/indexing.html#returning-a-view-versus-a-copy\n",
      "  df['review'] = df['review'].apply(remove_tag)\n"
     ]
    },
    {
     "data": {
      "text/plain": [
       "'A wonderful little production. The filming technique is very unassuming- very old-time-BBC fashion and gives a comforting, and sometimes discomforting, sense of realism to the entire piece. The actors are extremely well chosen- Michael Sheen not only \"has got all the polari\" but he has all the voices down pat too! You can truly see the seamless editing guided by the references to Williams\\' diary entries, not only is it well worth the watching but it is a terrificly written and performed piece. A masterful production about one of the great master\\'s of comedy and his life. The realism really comes home with the little things: the fantasy of the guard which, rather than use the traditional \\'dream\\' techniques remains solid then disappears. It plays on our knowledge and our senses, particularly with the scenes concerning Orton and Halliwell and the sets (particularly of their flat with Halliwell\\'s murals decorating every surface) are terribly well done.'"
      ]
     },
     "execution_count": 11,
     "metadata": {},
     "output_type": "execute_result"
    }
   ],
   "source": [
    "df['review'] = df['review'].apply(remove_tag)\n",
    "df['review'][1]"
   ]
  },
  {
   "cell_type": "code",
   "execution_count": 12,
   "id": "aeefbe2f",
   "metadata": {
    "execution": {
     "iopub.execute_input": "2023-11-24T00:37:22.170244Z",
     "iopub.status.busy": "2023-11-24T00:37:22.169828Z",
     "iopub.status.idle": "2023-11-24T00:37:22.175103Z",
     "shell.execute_reply": "2023-11-24T00:37:22.174116Z"
    },
    "papermill": {
     "duration": 0.016656,
     "end_time": "2023-11-24T00:37:22.177245",
     "exception": false,
     "start_time": "2023-11-24T00:37:22.160589",
     "status": "completed"
    },
    "tags": []
   },
   "outputs": [],
   "source": [
    "import string\n",
    "exclude = string.punctuation\n",
    "    \n",
    "def remove_punctuation(text):\n",
    "    for char in exclude:\n",
    "        text = text.replace(char,'')\n",
    "    return text\n"
   ]
  },
  {
   "cell_type": "code",
   "execution_count": 13,
   "id": "131f166b",
   "metadata": {
    "execution": {
     "iopub.execute_input": "2023-11-24T00:37:22.195661Z",
     "iopub.status.busy": "2023-11-24T00:37:22.194807Z",
     "iopub.status.idle": "2023-11-24T00:37:22.593444Z",
     "shell.execute_reply": "2023-11-24T00:37:22.592654Z"
    },
    "papermill": {
     "duration": 0.410143,
     "end_time": "2023-11-24T00:37:22.595677",
     "exception": false,
     "start_time": "2023-11-24T00:37:22.185534",
     "status": "completed"
    },
    "tags": []
   },
   "outputs": [
    {
     "name": "stderr",
     "output_type": "stream",
     "text": [
      "/tmp/ipykernel_20/2197602764.py:1: SettingWithCopyWarning: \n",
      "A value is trying to be set on a copy of a slice from a DataFrame.\n",
      "Try using .loc[row_indexer,col_indexer] = value instead\n",
      "\n",
      "See the caveats in the documentation: https://pandas.pydata.org/pandas-docs/stable/user_guide/indexing.html#returning-a-view-versus-a-copy\n",
      "  df['review'] = df['review'].apply(remove_punctuation)\n"
     ]
    }
   ],
   "source": [
    "df['review'] = df['review'].apply(remove_punctuation)"
   ]
  },
  {
   "cell_type": "code",
   "execution_count": 14,
   "id": "177ae061",
   "metadata": {
    "execution": {
     "iopub.execute_input": "2023-11-24T00:37:22.614701Z",
     "iopub.status.busy": "2023-11-24T00:37:22.613566Z",
     "iopub.status.idle": "2023-11-24T00:37:22.619817Z",
     "shell.execute_reply": "2023-11-24T00:37:22.618857Z"
    },
    "papermill": {
     "duration": 0.018118,
     "end_time": "2023-11-24T00:37:22.622188",
     "exception": false,
     "start_time": "2023-11-24T00:37:22.604070",
     "status": "completed"
    },
    "tags": []
   },
   "outputs": [],
   "source": [
    "def remove_url(text):\n",
    "    pattern = re.sub(re.compile('https?://\\S+|www\\.\\S+'),'',text)\n",
    "    return pattern"
   ]
  },
  {
   "cell_type": "code",
   "execution_count": 15,
   "id": "41e634e5",
   "metadata": {
    "execution": {
     "iopub.execute_input": "2023-11-24T00:37:22.639694Z",
     "iopub.status.busy": "2023-11-24T00:37:22.639304Z",
     "iopub.status.idle": "2023-11-24T00:37:22.807349Z",
     "shell.execute_reply": "2023-11-24T00:37:22.806125Z"
    },
    "papermill": {
     "duration": 0.179412,
     "end_time": "2023-11-24T00:37:22.809551",
     "exception": false,
     "start_time": "2023-11-24T00:37:22.630139",
     "status": "completed"
    },
    "tags": []
   },
   "outputs": [
    {
     "name": "stderr",
     "output_type": "stream",
     "text": [
      "/tmp/ipykernel_20/1151623256.py:1: SettingWithCopyWarning: \n",
      "A value is trying to be set on a copy of a slice from a DataFrame.\n",
      "Try using .loc[row_indexer,col_indexer] = value instead\n",
      "\n",
      "See the caveats in the documentation: https://pandas.pydata.org/pandas-docs/stable/user_guide/indexing.html#returning-a-view-versus-a-copy\n",
      "  df['review'] = df['review'].apply(remove_url)\n"
     ]
    }
   ],
   "source": [
    "df['review'] = df['review'].apply(remove_url)"
   ]
  },
  {
   "cell_type": "code",
   "execution_count": 16,
   "id": "f8b657ca",
   "metadata": {
    "execution": {
     "iopub.execute_input": "2023-11-24T00:37:22.827352Z",
     "iopub.status.busy": "2023-11-24T00:37:22.826984Z",
     "iopub.status.idle": "2023-11-24T00:37:22.835340Z",
     "shell.execute_reply": "2023-11-24T00:37:22.834341Z"
    },
    "papermill": {
     "duration": 0.01969,
     "end_time": "2023-11-24T00:37:22.837359",
     "exception": false,
     "start_time": "2023-11-24T00:37:22.817669",
     "status": "completed"
    },
    "tags": []
   },
   "outputs": [
    {
     "data": {
      "text/plain": [
       "0       One of the other reviewers has mentioned that ...\n",
       "1       A wonderful little production The filming tech...\n",
       "2       I thought this was a wonderful way to spend ti...\n",
       "3       Basically theres a family where a little boy J...\n",
       "4       Petter Matteis Love in the Time of Money is a ...\n",
       "                              ...                        \n",
       "9995    Fun entertaining movie about WWII German spy J...\n",
       "9996    Give me a break How can anyone say that this i...\n",
       "9997    This movie is a bad movie But after watching a...\n",
       "9998    This is a movie that was probably made to ente...\n",
       "9999    Smashing film about filmmaking Shows the inten...\n",
       "Name: review, Length: 9983, dtype: object"
      ]
     },
     "execution_count": 16,
     "metadata": {},
     "output_type": "execute_result"
    }
   ],
   "source": [
    "df['review']"
   ]
  },
  {
   "cell_type": "code",
   "execution_count": 17,
   "id": "b0db908e",
   "metadata": {
    "execution": {
     "iopub.execute_input": "2023-11-24T00:37:22.855195Z",
     "iopub.status.busy": "2023-11-24T00:37:22.854824Z",
     "iopub.status.idle": "2023-11-24T00:37:22.905135Z",
     "shell.execute_reply": "2023-11-24T00:37:22.903988Z"
    },
    "papermill": {
     "duration": 0.061889,
     "end_time": "2023-11-24T00:37:22.907278",
     "exception": false,
     "start_time": "2023-11-24T00:37:22.845389",
     "status": "completed"
    },
    "tags": []
   },
   "outputs": [
    {
     "name": "stderr",
     "output_type": "stream",
     "text": [
      "/tmp/ipykernel_20/452355002.py:1: SettingWithCopyWarning: \n",
      "A value is trying to be set on a copy of a slice from a DataFrame.\n",
      "Try using .loc[row_indexer,col_indexer] = value instead\n",
      "\n",
      "See the caveats in the documentation: https://pandas.pydata.org/pandas-docs/stable/user_guide/indexing.html#returning-a-view-versus-a-copy\n",
      "  df['review'] = df['review'].apply(lambda x:x.lower())\n"
     ]
    },
    {
     "data": {
      "text/plain": [
       "0       one of the other reviewers has mentioned that ...\n",
       "1       a wonderful little production the filming tech...\n",
       "2       i thought this was a wonderful way to spend ti...\n",
       "3       basically theres a family where a little boy j...\n",
       "4       petter matteis love in the time of money is a ...\n",
       "                              ...                        \n",
       "9995    fun entertaining movie about wwii german spy j...\n",
       "9996    give me a break how can anyone say that this i...\n",
       "9997    this movie is a bad movie but after watching a...\n",
       "9998    this is a movie that was probably made to ente...\n",
       "9999    smashing film about filmmaking shows the inten...\n",
       "Name: review, Length: 9983, dtype: object"
      ]
     },
     "execution_count": 17,
     "metadata": {},
     "output_type": "execute_result"
    }
   ],
   "source": [
    "df['review'] = df['review'].apply(lambda x:x.lower())\n",
    "df['review']"
   ]
  },
  {
   "cell_type": "code",
   "execution_count": 18,
   "id": "e6ebc195",
   "metadata": {
    "execution": {
     "iopub.execute_input": "2023-11-24T00:37:22.925861Z",
     "iopub.status.busy": "2023-11-24T00:37:22.925467Z",
     "iopub.status.idle": "2023-11-24T00:37:29.289807Z",
     "shell.execute_reply": "2023-11-24T00:37:29.288878Z"
    },
    "papermill": {
     "duration": 6.376234,
     "end_time": "2023-11-24T00:37:29.291944",
     "exception": false,
     "start_time": "2023-11-24T00:37:22.915710",
     "status": "completed"
    },
    "tags": []
   },
   "outputs": [
    {
     "name": "stderr",
     "output_type": "stream",
     "text": [
      "/tmp/ipykernel_20/1832233531.py:4: SettingWithCopyWarning: \n",
      "A value is trying to be set on a copy of a slice from a DataFrame.\n",
      "Try using .loc[row_indexer,col_indexer] = value instead\n",
      "\n",
      "See the caveats in the documentation: https://pandas.pydata.org/pandas-docs/stable/user_guide/indexing.html#returning-a-view-versus-a-copy\n",
      "  df['review'] = df['review'].apply(lambda x:[item for item in x.split() if item not in stp_word]).apply(lambda x:' '.join(x))\n"
     ]
    }
   ],
   "source": [
    "from nltk.corpus import stopwords\n",
    "stp_word = stopwords.words('english')\n",
    "\n",
    "df['review'] = df['review'].apply(lambda x:[item for item in x.split() if item not in stp_word]).apply(lambda x:' '.join(x))"
   ]
  },
  {
   "cell_type": "code",
   "execution_count": 19,
   "id": "b36bcc8d",
   "metadata": {
    "execution": {
     "iopub.execute_input": "2023-11-24T00:37:29.310676Z",
     "iopub.status.busy": "2023-11-24T00:37:29.309929Z",
     "iopub.status.idle": "2023-11-24T00:37:29.316479Z",
     "shell.execute_reply": "2023-11-24T00:37:29.315439Z"
    },
    "papermill": {
     "duration": 0.018349,
     "end_time": "2023-11-24T00:37:29.318721",
     "exception": false,
     "start_time": "2023-11-24T00:37:29.300372",
     "status": "completed"
    },
    "tags": []
   },
   "outputs": [
    {
     "data": {
      "text/plain": [
       "'one reviewers mentioned watching 1 oz episode youll hooked right exactly happened methe first thing struck oz brutality unflinching scenes violence set right word go trust show faint hearted timid show pulls punches regards drugs sex violence hardcore classic use wordit called oz nickname given oswald maximum security state penitentary focuses mainly emerald city experimental section prison cells glass fronts face inwards privacy high agenda em city home manyaryans muslims gangstas latinos christians italians irish moreso scuffles death stares dodgy dealings shady agreements never far awayi would say main appeal show due fact goes shows wouldnt dare forget pretty pictures painted mainstream audiences forget charm forget romanceoz doesnt mess around first episode ever saw struck nasty surreal couldnt say ready watched developed taste oz got accustomed high levels graphic violence violence injustice crooked guards wholl sold nickel inmates wholl kill order get away well mannered middle class inmates turned prison bitches due lack street skills prison experience watching oz may become comfortable uncomfortable viewingthats get touch darker side'"
      ]
     },
     "execution_count": 19,
     "metadata": {},
     "output_type": "execute_result"
    }
   ],
   "source": [
    "df['review'][0]"
   ]
  },
  {
   "cell_type": "code",
   "execution_count": 20,
   "id": "e905bd94",
   "metadata": {
    "execution": {
     "iopub.execute_input": "2023-11-24T00:37:29.337240Z",
     "iopub.status.busy": "2023-11-24T00:37:29.336846Z",
     "iopub.status.idle": "2023-11-24T00:37:29.347625Z",
     "shell.execute_reply": "2023-11-24T00:37:29.346629Z"
    },
    "papermill": {
     "duration": 0.02271,
     "end_time": "2023-11-24T00:37:29.349779",
     "exception": false,
     "start_time": "2023-11-24T00:37:29.327069",
     "status": "completed"
    },
    "tags": []
   },
   "outputs": [
    {
     "data": {
      "text/plain": [
       "(                                                 review\n",
       " 0     one reviewers mentioned watching 1 oz episode ...\n",
       " 1     wonderful little production filming technique ...\n",
       " 2     thought wonderful way spend time hot summer we...\n",
       " 3     basically theres family little boy jake thinks...\n",
       " 4     petter matteis love time money visually stunni...\n",
       " ...                                                 ...\n",
       " 9995  fun entertaining movie wwii german spy julie a...\n",
       " 9996  give break anyone say good hockey movie know m...\n",
       " 9997  movie bad movie watching endless series bad ho...\n",
       " 9998  movie probably made entertain middle school ea...\n",
       " 9999  smashing film filmmaking shows intense strange...\n",
       " \n",
       " [9983 rows x 1 columns],\n",
       " 0       positive\n",
       " 1       positive\n",
       " 2       positive\n",
       " 3       negative\n",
       " 4       positive\n",
       "           ...   \n",
       " 9995    positive\n",
       " 9996    negative\n",
       " 9997    negative\n",
       " 9998    negative\n",
       " 9999    positive\n",
       " Name: label, Length: 9983, dtype: object)"
      ]
     },
     "execution_count": 20,
     "metadata": {},
     "output_type": "execute_result"
    }
   ],
   "source": [
    "x = df.iloc[:,0:1]\n",
    "y = df.iloc[:,-1]\n",
    "x, y"
   ]
  },
  {
   "cell_type": "code",
   "execution_count": 21,
   "id": "c7d819c0",
   "metadata": {
    "execution": {
     "iopub.execute_input": "2023-11-24T00:37:29.368806Z",
     "iopub.status.busy": "2023-11-24T00:37:29.368175Z",
     "iopub.status.idle": "2023-11-24T00:37:29.377369Z",
     "shell.execute_reply": "2023-11-24T00:37:29.376459Z"
    },
    "papermill": {
     "duration": 0.020878,
     "end_time": "2023-11-24T00:37:29.379275",
     "exception": false,
     "start_time": "2023-11-24T00:37:29.358397",
     "status": "completed"
    },
    "tags": []
   },
   "outputs": [
    {
     "data": {
      "text/plain": [
       "array([1, 1, 1, ..., 0, 0, 1])"
      ]
     },
     "execution_count": 21,
     "metadata": {},
     "output_type": "execute_result"
    }
   ],
   "source": [
    "from sklearn.preprocessing import LabelEncoder\n",
    "label = LabelEncoder()\n",
    "y = label.fit_transform(y)\n",
    "y"
   ]
  },
  {
   "cell_type": "code",
   "execution_count": 22,
   "id": "4664552b",
   "metadata": {
    "execution": {
     "iopub.execute_input": "2023-11-24T00:37:29.398421Z",
     "iopub.status.busy": "2023-11-24T00:37:29.397720Z",
     "iopub.status.idle": "2023-11-24T00:37:29.405808Z",
     "shell.execute_reply": "2023-11-24T00:37:29.404800Z"
    },
    "papermill": {
     "duration": 0.020209,
     "end_time": "2023-11-24T00:37:29.408195",
     "exception": false,
     "start_time": "2023-11-24T00:37:29.387986",
     "status": "completed"
    },
    "tags": []
   },
   "outputs": [],
   "source": [
    "from sklearn.model_selection import train_test_split\n",
    "x_train, x_test, y_train, y_test = train_test_split(x,y, test_size=0.2, random_state=0)"
   ]
  },
  {
   "cell_type": "code",
   "execution_count": 23,
   "id": "d0cc9401",
   "metadata": {
    "execution": {
     "iopub.execute_input": "2023-11-24T00:37:29.427461Z",
     "iopub.status.busy": "2023-11-24T00:37:29.427048Z",
     "iopub.status.idle": "2023-11-24T00:37:29.434066Z",
     "shell.execute_reply": "2023-11-24T00:37:29.433024Z"
    },
    "papermill": {
     "duration": 0.019336,
     "end_time": "2023-11-24T00:37:29.436328",
     "exception": false,
     "start_time": "2023-11-24T00:37:29.416992",
     "status": "completed"
    },
    "tags": []
   },
   "outputs": [
    {
     "data": {
      "text/plain": [
       "((7986, 1), (1997, 1), array([0, 0, 0, ..., 0, 1, 1]))"
      ]
     },
     "execution_count": 23,
     "metadata": {},
     "output_type": "execute_result"
    }
   ],
   "source": [
    "x_train.shape , x_test.shape, y_train"
   ]
  },
  {
   "cell_type": "code",
   "execution_count": 24,
   "id": "ad8205f5",
   "metadata": {
    "execution": {
     "iopub.execute_input": "2023-11-24T00:37:29.456104Z",
     "iopub.status.busy": "2023-11-24T00:37:29.455404Z",
     "iopub.status.idle": "2023-11-24T00:37:41.369485Z",
     "shell.execute_reply": "2023-11-24T00:37:41.368404Z"
    },
    "papermill": {
     "duration": 11.926743,
     "end_time": "2023-11-24T00:37:41.372025",
     "exception": false,
     "start_time": "2023-11-24T00:37:29.445282",
     "status": "completed"
    },
    "tags": []
   },
   "outputs": [],
   "source": [
    "from sklearn.feature_extraction.text import CountVectorizer\n",
    "cv = CountVectorizer(max_features=2000,ngram_range=(1, 3))\n",
    "x_train_bow = cv.fit_transform(x_train['review']).toarray()\n",
    "x_test_bow = cv.transform(x_test['review']).toarray()"
   ]
  },
  {
   "cell_type": "code",
   "execution_count": 25,
   "id": "9ed5c773",
   "metadata": {
    "execution": {
     "iopub.execute_input": "2023-11-24T00:37:41.391585Z",
     "iopub.status.busy": "2023-11-24T00:37:41.391212Z",
     "iopub.status.idle": "2023-11-24T00:37:41.713992Z",
     "shell.execute_reply": "2023-11-24T00:37:41.712948Z"
    },
    "papermill": {
     "duration": 0.335089,
     "end_time": "2023-11-24T00:37:41.716355",
     "exception": false,
     "start_time": "2023-11-24T00:37:41.381266",
     "status": "completed"
    },
    "tags": []
   },
   "outputs": [
    {
     "data": {
      "text/plain": [
       "0.8227341011517276"
      ]
     },
     "execution_count": 25,
     "metadata": {},
     "output_type": "execute_result"
    }
   ],
   "source": [
    "from sklearn.naive_bayes import GaussianNB\n",
    "gnb = GaussianNB()\n",
    "gnb.fit(x_train_bow, y_train)\n",
    "\n",
    "y_pred = gnb.predict(x_test_bow)\n",
    "\n",
    "from sklearn.metrics import accuracy_score, confusion_matrix\n",
    "\n",
    "accuracy_score(y_pred,y_test)"
   ]
  },
  {
   "cell_type": "code",
   "execution_count": 26,
   "id": "31c9fb5b",
   "metadata": {
    "execution": {
     "iopub.execute_input": "2023-11-24T00:37:41.736580Z",
     "iopub.status.busy": "2023-11-24T00:37:41.736179Z",
     "iopub.status.idle": "2023-11-24T00:37:41.745677Z",
     "shell.execute_reply": "2023-11-24T00:37:41.744640Z"
    },
    "papermill": {
     "duration": 0.022294,
     "end_time": "2023-11-24T00:37:41.747889",
     "exception": false,
     "start_time": "2023-11-24T00:37:41.725595",
     "status": "completed"
    },
    "tags": []
   },
   "outputs": [
    {
     "data": {
      "text/plain": [
       "array([[817, 190],\n",
       "       [164, 826]])"
      ]
     },
     "execution_count": 26,
     "metadata": {},
     "output_type": "execute_result"
    }
   ],
   "source": [
    "confusion_matrix(y_pred,y_test)"
   ]
  },
  {
   "cell_type": "code",
   "execution_count": 27,
   "id": "01e761e2",
   "metadata": {
    "execution": {
     "iopub.execute_input": "2023-11-24T00:37:41.767738Z",
     "iopub.status.busy": "2023-11-24T00:37:41.767381Z",
     "iopub.status.idle": "2023-11-24T00:37:49.378994Z",
     "shell.execute_reply": "2023-11-24T00:37:49.377922Z"
    },
    "papermill": {
     "duration": 7.624323,
     "end_time": "2023-11-24T00:37:49.381475",
     "exception": false,
     "start_time": "2023-11-24T00:37:41.757152",
     "status": "completed"
    },
    "tags": []
   },
   "outputs": [
    {
     "data": {
      "text/plain": [
       "0.8227341011517276"
      ]
     },
     "execution_count": 27,
     "metadata": {},
     "output_type": "execute_result"
    }
   ],
   "source": [
    "from sklearn.ensemble import RandomForestClassifier\n",
    "\n",
    "rf = RandomForestClassifier()\n",
    "rf.fit(x_train_bow, y_train)\n",
    "\n",
    "y_pred_rf = rf.predict(x_test_bow)\n",
    "\n",
    "accuracy_score(y_pred,y_test)"
   ]
  },
  {
   "cell_type": "code",
   "execution_count": 28,
   "id": "26d1baa5",
   "metadata": {
    "execution": {
     "iopub.execute_input": "2023-11-24T00:37:49.402931Z",
     "iopub.status.busy": "2023-11-24T00:37:49.401817Z",
     "iopub.status.idle": "2023-11-24T00:37:55.720442Z",
     "shell.execute_reply": "2023-11-24T00:37:55.719335Z"
    },
    "papermill": {
     "duration": 6.331652,
     "end_time": "2023-11-24T00:37:55.722700",
     "exception": false,
     "start_time": "2023-11-24T00:37:49.391048",
     "status": "completed"
    },
    "tags": []
   },
   "outputs": [
    {
     "data": {
      "text/plain": [
       "0.8327491236855283"
      ]
     },
     "execution_count": 28,
     "metadata": {},
     "output_type": "execute_result"
    }
   ],
   "source": [
    "from sklearn.feature_extraction.text import TfidfVectorizer\n",
    "cv = TfidfVectorizer(max_features=1000,ngram_range=(1, 2))\n",
    "x_train_tf = cv.fit_transform(x_train['review']).toarray()\n",
    "x_test_tf = cv.transform(x_test['review']).toarray()\n",
    "\n",
    "from sklearn.naive_bayes import GaussianNB\n",
    "gnb = GaussianNB()\n",
    "gnb.fit(x_train_tf, y_train)\n",
    "\n",
    "y_pred = gnb.predict(x_test_tf)\n",
    "accuracy_score(y_pred,y_test)"
   ]
  },
  {
   "cell_type": "code",
   "execution_count": 29,
   "id": "3821a23c",
   "metadata": {
    "execution": {
     "iopub.execute_input": "2023-11-24T00:37:55.800583Z",
     "iopub.status.busy": "2023-11-24T00:37:55.800219Z",
     "iopub.status.idle": "2023-11-24T00:38:02.922940Z",
     "shell.execute_reply": "2023-11-24T00:38:02.921841Z"
    },
    "papermill": {
     "duration": 7.136097,
     "end_time": "2023-11-24T00:38:02.925206",
     "exception": false,
     "start_time": "2023-11-24T00:37:55.789109",
     "status": "completed"
    },
    "tags": []
   },
   "outputs": [
    {
     "data": {
      "text/plain": [
       "0.8327491236855283"
      ]
     },
     "execution_count": 29,
     "metadata": {},
     "output_type": "execute_result"
    }
   ],
   "source": [
    "from sklearn.ensemble import RandomForestClassifier\n",
    "\n",
    "rf = RandomForestClassifier()\n",
    "rf.fit(x_train_tf, y_train)\n",
    "\n",
    "y_pred_rf = rf.predict(x_test_tf)\n",
    "\n",
    "accuracy_score(y_pred,y_test)"
   ]
  },
  {
   "cell_type": "code",
   "execution_count": null,
   "id": "629a6877",
   "metadata": {
    "papermill": {
     "duration": 0.009153,
     "end_time": "2023-11-24T00:38:02.943940",
     "exception": false,
     "start_time": "2023-11-24T00:38:02.934787",
     "status": "completed"
    },
    "tags": []
   },
   "outputs": [],
   "source": []
  }
 ],
 "metadata": {
  "kaggle": {
   "accelerator": "none",
   "dataSources": [
    {
     "datasetId": 2039861,
     "sourceId": 3383416,
     "sourceType": "datasetVersion"
    }
   ],
   "dockerImageVersionId": 30579,
   "isGpuEnabled": false,
   "isInternetEnabled": true,
   "language": "python",
   "sourceType": "notebook"
  },
  "kernelspec": {
   "display_name": "Python 3",
   "language": "python",
   "name": "python3"
  },
  "language_info": {
   "codemirror_mode": {
    "name": "ipython",
    "version": 3
   },
   "file_extension": ".py",
   "mimetype": "text/x-python",
   "name": "python",
   "nbconvert_exporter": "python",
   "pygments_lexer": "ipython3",
   "version": "3.10.12"
  },
  "papermill": {
   "default_parameters": {},
   "duration": 47.522379,
   "end_time": "2023-11-24T00:38:03.774316",
   "environment_variables": {},
   "exception": null,
   "input_path": "__notebook__.ipynb",
   "output_path": "__notebook__.ipynb",
   "parameters": {},
   "start_time": "2023-11-24T00:37:16.251937",
   "version": "2.4.0"
  }
 },
 "nbformat": 4,
 "nbformat_minor": 5
}
